{
 "cells": [
  {
   "cell_type": "code",
   "execution_count": 2,
   "metadata": {},
   "outputs": [
    {
     "name": "stdout",
     "output_type": "stream",
     "text": [
      "current path: C:\\Users\\nicol\\NFCyber\\VideoAnalysis\\pics\n",
      "image folder path: C:\\Users\\nicol\\NFCyber\\BehavAnalysis\\pics\n",
      "number images: 1062\n",
      "images included: 1062\n"
     ]
    }
   ],
   "source": [
    "# importing libraries \n",
    "import os \n",
    "import cv2 \n",
    "from PIL import Image \n",
    "import re\n",
    "\n",
    "# Checking the current directory path \n",
    "print(f'current path: {os.getcwd()}') \n",
    "\n",
    "# Folder which contains all the images from which video is to be generated \n",
    "os.chdir(\"C:\\\\Users\\\\nicol\\\\NFCyber\\\\BehavAnalysis\\\\pics\") \n",
    "path = \"C:\\\\Users\\\\nicol\\\\NFCyber\\\\BehavAnalysis\\\\pics\"\n",
    "print(f'image folder path: {path}')\n",
    "\n",
    "num_of_images = len(os.listdir('.')) \n",
    "print(f'number images: {num_of_images}')\n",
    "\n",
    "\n",
    "# video generating function \n",
    "def generate_video(): \n",
    "\timage_folder = '.' # make sure to use your folder \n",
    "\tvideo_name = 'mygeneratedvideo.avi'\n",
    "\t#os.chdir(\"C:\\\\Python\\\\Geekfolder2\") \n",
    "\t\n",
    "\timages = [img for img in os.listdir(image_folder)]\n",
    "\t\n",
    "\t# sort images\n",
    "\tdef num_sort(test_string):\n",
    "\t\treturn list(map(int, re.findall(r'\\d+', test_string)))[0]\n",
    "\timages.sort(key=num_sort) \n",
    "\n",
    "\tprint(f'images included: {len(images)}') \n",
    "\t\n",
    "\n",
    "\tframe = cv2.imread(os.path.join(image_folder, images[0])) \n",
    "\n",
    "\t# setting the frame width, height width the width, height of first image \n",
    "\theight, width, layers = frame.shape \n",
    "\n",
    "\tvideo = cv2.VideoWriter(video_name, 0, 30, (width, height)) \n",
    "\n",
    "\t# Appending the images to the video one by one \n",
    "\tfor image in images: \n",
    "\t\tvideo.write(cv2.imread(os.path.join(image_folder, image))) \n",
    "\t\n",
    "\t# Deallocating memories taken for window creation \n",
    "\tcv2.destroyAllWindows() \n",
    "\tvideo.release() # releasing the video generated \n",
    "\n",
    "\n",
    "# Calling the generate_video function \n",
    "generate_video() \n"
   ]
  }
 ],
 "metadata": {
  "kernelspec": {
   "display_name": "base",
   "language": "python",
   "name": "python3"
  },
  "language_info": {
   "codemirror_mode": {
    "name": "ipython",
    "version": 3
   },
   "file_extension": ".py",
   "mimetype": "text/x-python",
   "name": "python",
   "nbconvert_exporter": "python",
   "pygments_lexer": "ipython3",
   "version": "3.11.5"
  }
 },
 "nbformat": 4,
 "nbformat_minor": 2
}
