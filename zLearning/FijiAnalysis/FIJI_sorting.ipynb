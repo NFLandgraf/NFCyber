{
 "cells": [
  {
   "cell_type": "code",
   "execution_count": 1,
   "metadata": {},
   "outputs": [
    {
     "name": "stdout",
     "output_type": "stream",
     "text": [
      "File     767    767    767  767    768    768    768    768    777    777  \\\n",
      "%Area  3.727  2.556  4.508  2.2  3.287  4.222  4.958  2.761  9.556  11.71   \n",
      "\n",
      "File   ...    198    198    200    200   200    200    206    206    206  \\\n",
      "%Area  ...  5.918  5.726  6.656  7.494  6.89  7.303  3.069  3.427  3.649   \n",
      "\n",
      "File     206  \n",
      "%Area  3.933  \n",
      "\n",
      "[1 rows x 24 columns]\n"
     ]
    }
   ],
   "source": [
    "import pandas as pd\n",
    "import os\n",
    "\n",
    "directory = 'C:\\\\Users\\\\landgrafn\\\\Desktop\\\\VMHvl_4peranimal\\\\Results\\\\results_area'\n",
    "common_names = ['2024-02-19_','NET.647-Iba1.488-Ab.568-DAPI.405_', '-20x-orth.czi_area.csv', 'APP-KI-', 'WT-', '-12m_', 's3', 's4', 'lVMHvl', 'rVMHvl', '-', 'm']\n",
    "df = pd.DataFrame()\n",
    "file_name_list = []\n",
    "\n",
    "for i, filename in enumerate(os.listdir(directory)):\n",
    "    file_path = os.path.join(directory, filename)\n",
    "    data = pd.read_csv(file_path)\n",
    "    df = pd.concat([df, data])\n",
    "\n",
    "    for seq in common_names:\n",
    "        filename = filename.replace(seq, '')\n",
    "    file_name_list.append(filename)\n",
    "\n",
    "df.index = file_name_list\n",
    "df.index.names = ['File']\n",
    "df = df.drop([' ', 'Min', 'Max', 'Area', 'Mean'], axis='columns')\n",
    "\n",
    "df = df.transpose()\n",
    "\n",
    "print(df)\n",
    "df.to_csv('file1.csv')\n"
   ]
  }
 ],
 "metadata": {
  "kernelspec": {
   "display_name": "base",
   "language": "python",
   "name": "python3"
  },
  "language_info": {
   "codemirror_mode": {
    "name": "ipython",
    "version": 3
   },
   "file_extension": ".py",
   "mimetype": "text/x-python",
   "name": "python",
   "nbconvert_exporter": "python",
   "pygments_lexer": "ipython3",
   "version": "3.11.6"
  }
 },
 "nbformat": 4,
 "nbformat_minor": 2
}
