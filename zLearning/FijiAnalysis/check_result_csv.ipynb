{
 "cells": [
  {
   "cell_type": "code",
   "execution_count": 4,
   "metadata": {},
   "outputs": [],
   "source": [
    "import pandas as pd\n",
    "\n",
    "df = pd.read_csv('C:\\\\Users\\\\landgrafn\\\\Desktop\\\\PMv\\\\results_Ab\\\\area_percent.csv', header=0)\n",
    "common_names = ['2024-04-10_', '2024-04-09_','NET.647-Iba1.488-Ab.568-DAPI_', '-20x-orth.czi', 'APP-KI-', 'WT-', '-12m_', 's1', 's2', 's3', 's4', 'PMv', '-', 'm', 'l', 'r']\n",
    "\n",
    "for com in common_names:\n",
    "    df = df.replace(com, '', regex=True)\n",
    "\n",
    "df = df.set_index('file').T\n",
    "\n",
    "df.to_csv('last_file.csv')"
   ]
  }
 ],
 "metadata": {
  "kernelspec": {
   "display_name": "base",
   "language": "python",
   "name": "python3"
  },
  "language_info": {
   "codemirror_mode": {
    "name": "ipython",
    "version": 3
   },
   "file_extension": ".py",
   "mimetype": "text/x-python",
   "name": "python",
   "nbconvert_exporter": "python",
   "pygments_lexer": "ipython3",
   "version": "3.11.6"
  }
 },
 "nbformat": 4,
 "nbformat_minor": 2
}
