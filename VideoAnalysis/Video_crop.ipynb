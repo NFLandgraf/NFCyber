{
 "cells": [
  {
   "cell_type": "markdown",
   "metadata": {},
   "source": [
    "GET VIDEO PROPERTIES AND TRIM, CROP AND ADJUST BRIGHTNESS& CONTRAST"
   ]
  },
  {
   "cell_type": "code",
   "execution_count": 1,
   "metadata": {},
   "outputs": [
    {
     "name": "stdout",
     "output_type": "stream",
     "text": [
      "6 files found in path directory C:\\Users\\landgrafn\\NFCyber\\VideoAnalysis\\data\\\n",
      "['1m_292.mp4', '1m_293.mp4', '1m_301.mp4', '1m_303.mp4', '1m_304.mp4', '1m_315.mp4']\n",
      "\n",
      "1m_292.mp4\n",
      "dimensions: 1936 x 1216 px\n",
      "nframes: 43157\n",
      "fps: 72\n",
      "duration: 599.4027777777778 s\n",
      "\n",
      "1m_293.mp4\n",
      "dimensions: 1936 x 1216 px\n",
      "nframes: 43157\n",
      "fps: 72\n",
      "duration: 599.4027777777778 s\n",
      "\n",
      "1m_301.mp4\n",
      "dimensions: 1936 x 1216 px\n",
      "nframes: 43157\n",
      "fps: 72\n",
      "duration: 599.4027777777778 s\n",
      "\n",
      "1m_303.mp4\n",
      "dimensions: 1936 x 1216 px\n",
      "nframes: 43157\n",
      "fps: 72\n",
      "duration: 599.4027777777778 s\n",
      "\n",
      "1m_304.mp4\n",
      "dimensions: 1936 x 1216 px\n",
      "nframes: 43157\n",
      "fps: 72\n",
      "duration: 599.4027777777778 s\n",
      "\n",
      "1m_315.mp4\n",
      "dimensions: 1936 x 1216 px\n",
      "nframes: 43157\n",
      "fps: 72\n",
      "duration: 599.4027777777778 s\n",
      "\n"
     ]
    }
   ],
   "source": [
    "import cv2\n",
    "import ffmpeg\n",
    "from tqdm import tqdm\n",
    "import os\n",
    "\n",
    "path = 'C:\\\\Users\\\\landgrafn\\\\NFCyber\\\\VideoAnalysis\\\\data\\\\'\n",
    "common_name = '1m'\n",
    "file_format = '.mp4'\n",
    "\n",
    "# get all file names in directory into list\n",
    "files = [file for file in os.listdir(path) \n",
    "             if os.path.isfile(os.path.join(path, file)) and\n",
    "             common_name in file]\n",
    "print(f'{len(files)} files found in path directory {path}\\n'\n",
    "      f'{files}\\n')\n",
    "\n",
    "# get video properties of all videos in list\n",
    "for file in files:\n",
    "      vid = cv2.VideoCapture(path + file)\n",
    "\n",
    "      width = int(vid.get(cv2.CAP_PROP_FRAME_WIDTH))\n",
    "      height = int(vid.get(cv2.CAP_PROP_FRAME_HEIGHT))\n",
    "      nframes = int(vid.get(cv2.CAP_PROP_FRAME_COUNT))\n",
    "      fps = int(vid.get(cv2.CAP_PROP_FPS))\n",
    "      duration = nframes / fps\n",
    "\n",
    "      print(f'{file}\\n'\n",
    "            f'dimensions: {width} x {height} px\\n'\n",
    "            f'nframes: {nframes}\\n'\n",
    "            f'fps: {fps}\\n'\n",
    "            f'duration: {duration} s\\n')"
   ]
  },
  {
   "cell_type": "code",
   "execution_count": 2,
   "metadata": {},
   "outputs": [
    {
     "name": "stderr",
     "output_type": "stream",
     "text": [
      "100%|██████████| 43157/43157 [12:03<00:00, 59.65it/s]\n"
     ]
    },
    {
     "name": "stdout",
     "output_type": "stream",
     "text": [
      "C:\\Users\\landgrafn\\NFCyber\\VideoAnalysis\\data\\1m_292.mp4 done! input: 43157 frames, output: 43157 frames\n",
      "\n",
      "\n"
     ]
    },
    {
     "name": "stderr",
     "output_type": "stream",
     "text": [
      "100%|██████████| 43157/43157 [11:58<00:00, 60.03it/s]\n"
     ]
    },
    {
     "name": "stdout",
     "output_type": "stream",
     "text": [
      "C:\\Users\\landgrafn\\NFCyber\\VideoAnalysis\\data\\1m_293.mp4 done! input: 43157 frames, output: 43157 frames\n",
      "\n",
      "\n"
     ]
    },
    {
     "name": "stderr",
     "output_type": "stream",
     "text": [
      "100%|██████████| 43157/43157 [10:37<00:00, 67.73it/s]\n"
     ]
    },
    {
     "name": "stdout",
     "output_type": "stream",
     "text": [
      "C:\\Users\\landgrafn\\NFCyber\\VideoAnalysis\\data\\1m_301.mp4 done! input: 43157 frames, output: 43157 frames\n",
      "\n",
      "\n"
     ]
    },
    {
     "name": "stderr",
     "output_type": "stream",
     "text": [
      "100%|██████████| 43157/43157 [10:37<00:00, 67.65it/s]\n"
     ]
    },
    {
     "name": "stdout",
     "output_type": "stream",
     "text": [
      "C:\\Users\\landgrafn\\NFCyber\\VideoAnalysis\\data\\1m_303.mp4 done! input: 43157 frames, output: 43157 frames\n",
      "\n",
      "\n"
     ]
    },
    {
     "name": "stderr",
     "output_type": "stream",
     "text": [
      "100%|██████████| 43157/43157 [10:35<00:00, 67.94it/s]\n"
     ]
    },
    {
     "name": "stdout",
     "output_type": "stream",
     "text": [
      "C:\\Users\\landgrafn\\NFCyber\\VideoAnalysis\\data\\1m_304.mp4 done! input: 43157 frames, output: 43157 frames\n",
      "\n",
      "\n"
     ]
    },
    {
     "name": "stderr",
     "output_type": "stream",
     "text": [
      "100%|██████████| 43157/43157 [10:35<00:00, 67.92it/s]"
     ]
    },
    {
     "name": "stdout",
     "output_type": "stream",
     "text": [
      "C:\\Users\\landgrafn\\NFCyber\\VideoAnalysis\\data\\1m_315.mp4 done! input: 43157 frames, output: 43157 frames\n",
      "\n",
      "\n"
     ]
    },
    {
     "name": "stderr",
     "output_type": "stream",
     "text": [
      "\n"
     ]
    }
   ],
   "source": [
    "# CROP\n",
    "x1, y1 = 100, 0   # top left corner of future cropped image\n",
    "x2, y2 = 1570, 1216    # bottom right corner of future cropped image\n",
    "\n",
    "# BRIGHTNESS & CONTRAST\n",
    "alpha = 1   # brightness: 1.0-original, <1.0-darker, >1.0-brighter\n",
    "beta = -0    # contrast: 0-unchanged, <0-lower contrast, >0-higher contrast\n",
    "\n",
    "\n",
    "def adjust_video(input_file, output_file, new_width, new_height, fps):\n",
    "    cap = cv2.VideoCapture(input_file)\n",
    "    first_frame = input_file.replace(file_format, '') + '_firstFrame.png'\n",
    "\n",
    "    fourcc = cv2.VideoWriter_fourcc(*'mp4v')\n",
    "    video = cv2.VideoWriter(output_file, fourcc, fps, (new_width, new_height)) \n",
    "\n",
    "    for curr_frame in tqdm(range(nframes)):    # nframes or 1\n",
    "        ret, frame = cap.read()\n",
    "\n",
    "        if ret:            \n",
    "            # CROP\n",
    "            #frame = frame[y1:y2, x1:x2]\n",
    "\n",
    "            # BRIGHTNESS & CONTRAST\n",
    "            #frame = cv2.convertScaleAbs(frame, alpha=alpha, beta=beta)\n",
    "\n",
    "            # RESIZE\n",
    "            frame = cv2.resize(frame, (new_width, new_height))  # must be the same dimensions as in video = cv2.VideoWriter() \n",
    "\n",
    "            video.write(frame)\n",
    "\n",
    "            # when you had range(1) to only check the first frame, write first frame. Delete it if >0\n",
    "            if curr_frame == 0:\n",
    "                cv2.imwrite(first_frame, frame)\n",
    "            elif curr_frame == 1:\n",
    "                os.remove(first_frame)\n",
    "\n",
    "        else:\n",
    "            break\n",
    "\n",
    "    cap.release()\n",
    "    video.release()\n",
    "\n",
    "    print(f'{input_file} done! input: {nframes} frames, output: {curr_frame+1} frames\\n\\n')\n",
    "\n",
    "for file in files:\n",
    "    vid = cv2.VideoCapture(path + file)\n",
    "    width = int(vid.get(cv2.CAP_PROP_FRAME_WIDTH))\n",
    "    height = int(vid.get(cv2.CAP_PROP_FRAME_HEIGHT))\n",
    "    nframes = int(vid.get(cv2.CAP_PROP_FRAME_COUNT))\n",
    "    fps = int(vid.get(cv2.CAP_PROP_FPS))\n",
    "\n",
    "    #new_width, new_height = x2-x1, y2-y1                        # USE THIS WHEN     CROP     & NOT REDUCE QUALITY\n",
    "    #new_width, new_height = int((x2-x1)*2/3), int((y2-y1)*2/3)  # USE THIS WHEN     CROP     &     REDUCE QUALITY\n",
    "    new_width, new_height = int(width/2), int(height/2)         # USE THIS WHEN NOT CROP     &     REDUCE QUALITY\n",
    "    #new_width, new_height = width, height                       # USE THIS WHEN NOT CROP     & NOT REDUCE QUALITY\n",
    "\n",
    "\n",
    "    input_file = path + file\n",
    "    output_file = input_file.replace(file_format, '') + '_edit' + file_format\n",
    "\n",
    "    adjust_video(input_file, output_file, new_width, new_height, fps)"
   ]
  },
  {
   "cell_type": "code",
   "execution_count": 4,
   "metadata": {},
   "outputs": [
    {
     "data": {
      "text/plain": [
       "(None, None)"
      ]
     },
     "execution_count": 4,
     "metadata": {},
     "output_type": "execute_result"
    }
   ],
   "source": [
    "input_file = path + files[0]\n",
    "output_file = input_file.replace(file_format, '') + '_trim' + file_format\n",
    "\n",
    "# trim video according to frames\n",
    "output = ffmpeg.output(ffmpeg.input(input_file).trim(start_frame=0, end_frame=1000), output_file)\n",
    "ffmpeg.run(output)"
   ]
  }
 ],
 "metadata": {
  "kernelspec": {
   "display_name": "base",
   "language": "python",
   "name": "python3"
  },
  "language_info": {
   "codemirror_mode": {
    "name": "ipython",
    "version": 3
   },
   "file_extension": ".py",
   "mimetype": "text/x-python",
   "name": "python",
   "nbconvert_exporter": "python",
   "pygments_lexer": "ipython3",
   "version": "3.11.6"
  }
 },
 "nbformat": 4,
 "nbformat_minor": 2
}
