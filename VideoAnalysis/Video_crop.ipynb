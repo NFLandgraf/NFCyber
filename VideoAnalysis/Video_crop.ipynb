{
 "cells": [
  {
   "cell_type": "markdown",
   "metadata": {},
   "source": [
    "GET VIDEO PROPERTIES AND TRIM, CROP AND ADJUST BRIGHTNESS& CONTRAST"
   ]
  },
  {
   "cell_type": "code",
   "execution_count": 19,
   "metadata": {},
   "outputs": [
    {
     "name": "stdout",
     "output_type": "stream",
     "text": [
      "3 files found in path directory C:\\Users\\landgrafn\\NFCyber\\VideoAnalysis\\data\\\n",
      "['OF_trim.mp4', 'OF_trim_adjusted_0.5.mp4', 'OF_trim_adjusted_0.66.mp4']\n",
      "\n",
      "OF_trim.mp4\n",
      "dimensions: 1936 x 1216 px\n",
      "nframes: 1000\n",
      "fps: 100\n",
      "duration: 10.0 s\n",
      "\n",
      "OF_trim_adjusted_0.5.mp4\n",
      "dimensions: 694 x 608 px\n",
      "nframes: 1000\n",
      "fps: 100\n",
      "duration: 10.0 s\n",
      "\n",
      "OF_trim_adjusted_0.66.mp4\n",
      "dimensions: 926 x 810 px\n",
      "nframes: 1000\n",
      "fps: 100\n",
      "duration: 10.0 s\n",
      "\n"
     ]
    }
   ],
   "source": [
    "import cv2\n",
    "import ffmpeg\n",
    "from tqdm import tqdm\n",
    "import os\n",
    "\n",
    "path = 'C:\\\\Users\\\\landgrafn\\\\NFCyber\\\\VideoAnalysis\\\\data\\\\'\n",
    "common_name = 'OF_trim'\n",
    "file_format = '.mp4'\n",
    "\n",
    "# get all file names in directory into list\n",
    "files = [file for file in os.listdir(path) \n",
    "             if os.path.isfile(os.path.join(path, file)) and\n",
    "             common_name in file]\n",
    "print(f'{len(files)} files found in path directory {path}\\n'\n",
    "      f'{files}\\n')\n",
    "\n",
    "# get video properties of all videos in list\n",
    "for file in files:\n",
    "      vid = cv2.VideoCapture(path + file)\n",
    "\n",
    "      width = int(vid.get(cv2.CAP_PROP_FRAME_WIDTH))\n",
    "      height = int(vid.get(cv2.CAP_PROP_FRAME_HEIGHT))\n",
    "      nframes = int(vid.get(cv2.CAP_PROP_FRAME_COUNT))\n",
    "      fps = int(vid.get(cv2.CAP_PROP_FPS))\n",
    "      duration = nframes / fps\n",
    "\n",
    "      print(f'{file}\\n'\n",
    "            f'dimensions: {width} x {height} px\\n'\n",
    "            f'nframes: {nframes}\\n'\n",
    "            f'fps: {fps}\\n'\n",
    "            f'duration: {duration} s\\n')"
   ]
  },
  {
   "cell_type": "code",
   "execution_count": 20,
   "metadata": {},
   "outputs": [
    {
     "name": "stderr",
     "output_type": "stream",
     "text": [
      "  0%|          | 0/1000 [00:00<?, ?it/s]"
     ]
    },
    {
     "name": "stderr",
     "output_type": "stream",
     "text": [
      "100%|██████████| 1000/1000 [00:32<00:00, 30.93it/s]\n"
     ]
    },
    {
     "name": "stdout",
     "output_type": "stream",
     "text": [
      "C:\\Users\\landgrafn\\NFCyber\\VideoAnalysis\\data\\OF_trim.mp4 done!\n",
      "input: 1000 frames, output: 1000 frames\n",
      "\n",
      "\n"
     ]
    },
    {
     "name": "stderr",
     "output_type": "stream",
     "text": [
      " 10%|█         | 102/1000 [00:02<00:23, 37.98it/s]\n"
     ]
    },
    {
     "ename": "KeyboardInterrupt",
     "evalue": "",
     "output_type": "error",
     "traceback": [
      "\u001b[1;31m---------------------------------------------------------------------------\u001b[0m",
      "\u001b[1;31mKeyboardInterrupt\u001b[0m                         Traceback (most recent call last)",
      "Cell \u001b[1;32mIn[20], line 54\u001b[0m\n\u001b[0;32m     51\u001b[0m input_file \u001b[38;5;241m=\u001b[39m path \u001b[38;5;241m+\u001b[39m file\n\u001b[0;32m     52\u001b[0m output_file \u001b[38;5;241m=\u001b[39m input_file\u001b[38;5;241m.\u001b[39mreplace(file_format, \u001b[38;5;124m'\u001b[39m\u001b[38;5;124m'\u001b[39m) \u001b[38;5;241m+\u001b[39m \u001b[38;5;124m'\u001b[39m\u001b[38;5;124m_adjusted\u001b[39m\u001b[38;5;124m'\u001b[39m \u001b[38;5;241m+\u001b[39m file_format\n\u001b[1;32m---> 54\u001b[0m \u001b[43madjust_video\u001b[49m\u001b[43m(\u001b[49m\u001b[43minput_file\u001b[49m\u001b[43m)\u001b[49m\n",
      "Cell \u001b[1;32mIn[20], line 34\u001b[0m, in \u001b[0;36madjust_video\u001b[1;34m(input_file)\u001b[0m\n\u001b[0;32m     28\u001b[0m \u001b[38;5;66;03m# BRIGHTNESS & CONTRAST\u001b[39;00m\n\u001b[0;32m     29\u001b[0m \u001b[38;5;66;03m#frame = cv2.convertScaleAbs(frame, alpha=alpha, beta=beta)\u001b[39;00m\n\u001b[0;32m     30\u001b[0m \n\u001b[0;32m     31\u001b[0m \u001b[38;5;66;03m# RESIZE\u001b[39;00m\n\u001b[0;32m     32\u001b[0m frame \u001b[38;5;241m=\u001b[39m cv2\u001b[38;5;241m.\u001b[39mresize(frame, (new_width, new_height))  \u001b[38;5;66;03m# must be the same dimensions as in video = cv2.VideoWriter() \u001b[39;00m\n\u001b[1;32m---> 34\u001b[0m \u001b[43mvideo\u001b[49m\u001b[38;5;241;43m.\u001b[39;49m\u001b[43mwrite\u001b[49m\u001b[43m(\u001b[49m\u001b[43mframe\u001b[49m\u001b[43m)\u001b[49m\n\u001b[0;32m     36\u001b[0m \u001b[38;5;66;03m# when you had range(1) to only check the first frame, write first frame. Delete it if >0\u001b[39;00m\n\u001b[0;32m     37\u001b[0m \u001b[38;5;28;01mif\u001b[39;00m curr_frame \u001b[38;5;241m==\u001b[39m \u001b[38;5;241m0\u001b[39m:\n",
      "\u001b[1;31mKeyboardInterrupt\u001b[0m: "
     ]
    }
   ],
   "source": [
    "# properties of future video\n",
    "x1, y1 = 180, 0   # top left corner of future cropped image\n",
    "x2, y2 = 1570, 1216    # bottom right corner of future cropped image\n",
    "\n",
    "alpha = 1   # brightness: 1.0-original, <1.0-darker, >1.0-brighter\n",
    "beta = -10    # contrast: 0-unchanged, <0-lower contrast, >0-higher contrast\n",
    "\n",
    "new_width, new_height = 1500, 1500\n",
    "#new_width, new_height = x2-x1, y2-y1                    # USE THIS WHEN     CROP     & NOT REDUCE QUALITY\n",
    "#new_width, new_height = int((x2-x1)*2/3), int((y2-y1)*2/3)  # USE THIS WHEN     CROP     &     REDUCE QUALITY\n",
    "#new_width, new_height = int(width/2), int(height/2)     # USE THIS WHEN NOT CROP     &     REDUCE QUALITY\n",
    "\n",
    "\n",
    "def adjust_video(input_file):\n",
    "    cap = cv2.VideoCapture(input_file)\n",
    "    first_frame = input_file.replace(file_format, '') + '_firstFrame.png'\n",
    "\n",
    "    fourcc = cv2.VideoWriter_fourcc(*'mp4v')\n",
    "    video = cv2.VideoWriter(output_file, fourcc, fps, (new_width, new_height)) \n",
    "\n",
    "    for curr_frame in tqdm(range(nframes)):    # nframes or 1\n",
    "        ret, frame = cap.read()\n",
    "\n",
    "        if ret:            \n",
    "            # CROP\n",
    "            frame = frame[y1:y2, x1:x2]\n",
    "\n",
    "            # BRIGHTNESS & CONTRAST\n",
    "            #frame = cv2.convertScaleAbs(frame, alpha=alpha, beta=beta)\n",
    "\n",
    "            # RESIZE\n",
    "            frame = cv2.resize(frame, (new_width, new_height))  # must be the same dimensions as in video = cv2.VideoWriter() \n",
    "\n",
    "            video.write(frame)\n",
    "\n",
    "            # when you had range(1) to only check the first frame, write first frame. Delete it if >0\n",
    "            if curr_frame == 0:\n",
    "                cv2.imwrite(first_frame, frame)\n",
    "            elif curr_frame == 1:\n",
    "                os.remove(first_frame)\n",
    "\n",
    "        else:\n",
    "            break\n",
    "\n",
    "    cap.release()\n",
    "    video.release()\n",
    "\n",
    "    print(f'{input_file} done!\\ninput: {nframes} frames, output: {curr_frame+1} frames\\n\\n')\n",
    "\n",
    "for file in files:\n",
    "    input_file = path + file\n",
    "    output_file = input_file.replace(file_format, '') + '_adjusted' + file_format\n",
    "\n",
    "    adjust_video(input_file)"
   ]
  },
  {
   "cell_type": "code",
   "execution_count": 4,
   "metadata": {},
   "outputs": [
    {
     "data": {
      "text/plain": [
       "(None, None)"
      ]
     },
     "execution_count": 4,
     "metadata": {},
     "output_type": "execute_result"
    }
   ],
   "source": [
    "input_file = path + files[0]\n",
    "output_file = input_file.replace(file_format, '') + '_trim' + file_format\n",
    "\n",
    "# trim video according to frames\n",
    "output = ffmpeg.output(ffmpeg.input(input_file).trim(start_frame=0, end_frame=1000), output_file)\n",
    "ffmpeg.run(output)"
   ]
  }
 ],
 "metadata": {
  "kernelspec": {
   "display_name": "base",
   "language": "python",
   "name": "python3"
  },
  "language_info": {
   "codemirror_mode": {
    "name": "ipython",
    "version": 3
   },
   "file_extension": ".py",
   "mimetype": "text/x-python",
   "name": "python",
   "nbconvert_exporter": "python",
   "pygments_lexer": "ipython3",
   "version": "3.11.6"
  }
 },
 "nbformat": 4,
 "nbformat_minor": 2
}
