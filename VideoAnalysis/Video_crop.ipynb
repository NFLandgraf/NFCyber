{
 "cells": [
  {
   "cell_type": "markdown",
   "metadata": {},
   "source": [
    "CROP VIDEO"
   ]
  },
  {
   "cell_type": "code",
   "execution_count": 36,
   "metadata": {},
   "outputs": [
    {
     "name": "stdout",
     "output_type": "stream",
     "text": [
      "dimensions: 320 x 576 px\n"
     ]
    }
   ],
   "source": [
    "# check wanted crop dimensions via 1. frame of video\n",
    "import cv2\n",
    "import os\n",
    "\n",
    "# parameters\n",
    "x0, x1, y0, y1 = 0, 1, 0, 1\n",
    "input, video_format = 'Auerbacher', '.mp4'\n",
    "\n",
    "\n",
    "input_file = input + video_format\n",
    "video = cv2.VideoCapture(input_file)\n",
    "_, image = video.read()\n",
    "cv2.imwrite(f'{input}_frame0.png', image)\n",
    "\n",
    "img = cv2.imread(f'{input}_frame0.png')\n",
    "print(f'dimensions: {img.shape[1]} x {img.shape[0]} px')\n",
    "\n",
    "crop_img = img[y0:y1, x0:x1]\n",
    "cv2.imshow(f'{input}_cropped', crop_img)\n",
    "cv2.waitKey(0)\n",
    "os.remove(f'{input}_frame0.png')"
   ]
  },
  {
   "cell_type": "code",
   "execution_count": 28,
   "metadata": {},
   "outputs": [
    {
     "name": "stdout",
     "output_type": "stream",
     "text": [
      "INPUT : [320, 576] px, 402 frames, 13.38s, 30.045 fps\n",
      "OUTPUT: [120, 276] px, 402 frames, 13.38s, 30.045 fps\n"
     ]
    }
   ],
   "source": [
    "# crop video with dimensions from above\n",
    "import subprocess\n",
    "import moviepy.editor as mpy\n",
    "\n",
    "crop_params = f'crop={x1-x0}:{y1-y0}:{(x0+x1)/2}:{(y0+y1)/2}'\n",
    "output_file = input + '_cropped' + video_format\n",
    "ffmpeg_command = f'ffmpeg -i {input_file} -filter:v {crop_params} {output_file}'\n",
    "\n",
    "subprocess.run(ffmpeg_command, shell=True)\n",
    "\n",
    "# check changes\n",
    "clip = mpy.VideoFileClip(input_file)\n",
    "print(f'INPUT : {clip.size} px, {clip.reader.nframes} frames, {clip.duration}s, {round(clip.reader.nframes/clip.duration, 3)} fps')\n",
    "\n",
    "clip = mpy.VideoFileClip(output_file)\n",
    "print(f'OUTPUT: {clip.size} px, {clip.reader.nframes} frames, {clip.duration}s, {round(clip.reader.nframes/clip.duration, 3)} fps')\n"
   ]
  }
 ],
 "metadata": {
  "kernelspec": {
   "display_name": "base",
   "language": "python",
   "name": "python3"
  },
  "language_info": {
   "codemirror_mode": {
    "name": "ipython",
    "version": 3
   },
   "file_extension": ".py",
   "mimetype": "text/x-python",
   "name": "python",
   "nbconvert_exporter": "python",
   "pygments_lexer": "ipython3",
   "version": "3.11.5"
  }
 },
 "nbformat": 4,
 "nbformat_minor": 2
}
