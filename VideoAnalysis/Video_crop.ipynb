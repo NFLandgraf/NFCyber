{
 "cells": [
  {
   "cell_type": "code",
   "execution_count": 2,
   "metadata": {},
   "outputs": [],
   "source": [
    "import subprocess\n",
    "import moviepy.editor as mpy\n",
    "\n",
    "input, video_format = 'Auerbacher', '.mp4'\n",
    "crop_params = 'crop=320:576:160:288'\n",
    "\n",
    "input_file = input + video_format\n",
    "output_file = input + '_crop' + video_format\n",
    "ffmpeg_command = f'ffmpeg -i {input_file} -filter:v {crop_params} {output_file}'\n",
    "\n",
    "subprocess.run(ffmpeg_command, shell=True)\n",
    "\n",
    "# check changes\n",
    "clip = mpy.VideoFileClip(input_file)\n",
    "print(f'INPUT : {clip.size} px, {clip.reader.nframes} frames, {clip.duration}s, {round(clip.reader.nframes/clip.duration, 3)} fps')\n",
    "\n",
    "clip = mpy.VideoFileClip(output_file)\n",
    "print(f'OUTPUT: {clip.size} px, {clip.reader.nframes} frames, {clip.duration}s, {round(clip.reader.nframes/clip.duration, 3)} fps')\n",
    "\n"
   ]
  }
 ],
 "metadata": {
  "kernelspec": {
   "display_name": "base",
   "language": "python",
   "name": "python3"
  },
  "language_info": {
   "codemirror_mode": {
    "name": "ipython",
    "version": 3
   },
   "file_extension": ".py",
   "mimetype": "text/x-python",
   "name": "python",
   "nbconvert_exporter": "python",
   "pygments_lexer": "ipython3",
   "version": "3.11.5"
  }
 },
 "nbformat": 4,
 "nbformat_minor": 2
}
