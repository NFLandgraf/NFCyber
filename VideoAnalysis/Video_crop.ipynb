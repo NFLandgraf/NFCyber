{
 "cells": [
  {
   "cell_type": "markdown",
   "metadata": {},
   "source": [
    "GET VIDEO PROPERTIES AND TRIM, CROP AND ADJUST BRIGHTNESS& CONTRAST"
   ]
  },
  {
   "cell_type": "code",
   "execution_count": 69,
   "metadata": {},
   "outputs": [],
   "source": [
    "import cv2\n",
    "import moviepy.editor as mpy\n",
    "from moviepy.video.fx.all import crop\n",
    "import ffmpeg\n",
    "from tqdm import tqdm\n",
    "import os"
   ]
  },
  {
   "cell_type": "code",
   "execution_count": 70,
   "metadata": {},
   "outputs": [
    {
     "name": "stdout",
     "output_type": "stream",
     "text": [
      "1 files found in path directory\n",
      "dimensions: 1936 x 1216 px\n",
      "nframes: 4200\n",
      "fps: 77.0\n",
      "duration: 54.54545454545455 s\n",
      "\n"
     ]
    }
   ],
   "source": [
    "# get first frame from video and check video properties\n",
    "path = 'C:\\\\Users\\\\nicol\\\\NFCyber\\\\VideoAnalysis\\\\data\\\\'\n",
    "common_name = 'p301'\n",
    "file_format = '.mp4'\n",
    "\n",
    "# get all file names in directory into list\n",
    "files = [file.replace(file_format, '') for file in os.listdir(path) \n",
    "             if os.path.isfile(os.path.join(path, file)) and\n",
    "             common_name in file]\n",
    "print(f'{len(files)} files found in path directory')\n",
    "\n",
    "# grab first video in list \n",
    "input = path + files[0]\n",
    "input_file = input + file_format\n",
    "output = input\n",
    "\n",
    "# get properties of video\n",
    "cap = cv2.VideoCapture(input_file)\n",
    "nframes = int(cap.get(cv2.CAP_PROP_FRAME_COUNT))\n",
    "fps = cap.get(cv2.CAP_PROP_FPS)\n",
    "\n",
    "# save first frame as _frame0.png\n",
    "ret, image = cap.read()\n",
    "cv2.imwrite(f'{output}_frame0.png', image)\n",
    "\n",
    "# check dimensions of frame\n",
    "x1, y1 = 0, image.shape[1]\n",
    "x2, y2 = 0 , image.shape[0]\n",
    "\n",
    "print(f'dimensions: {image.shape[1]} x {image.shape[0]} px\\n'\n",
    "      f'nframes: {nframes}\\n'\n",
    "      f'fps: {fps}\\n'\n",
    "      f'duration: {nframes/fps} s\\n')"
   ]
  },
  {
   "cell_type": "code",
   "execution_count": 4,
   "metadata": {},
   "outputs": [
    {
     "data": {
      "text/plain": [
       "(None, None)"
      ]
     },
     "execution_count": 4,
     "metadata": {},
     "output_type": "execute_result"
    }
   ],
   "source": [
    "# trim video according to frames\n",
    "output = ffmpeg.output(ffmpeg.input(input_file).trim(start_frame=0, end_frame=4200), f'{output}_trim.mp4')\n",
    "ffmpeg.run(output)"
   ]
  },
  {
   "cell_type": "code",
   "execution_count": 71,
   "metadata": {},
   "outputs": [
    {
     "data": {
      "text/plain": [
       "-1"
      ]
     },
     "execution_count": 71,
     "metadata": {},
     "output_type": "execute_result"
    }
   ],
   "source": [
    "# crop frame to find out right parameters\n",
    "x1, y1 = 320, 0\n",
    "x2, y2 = 1550 , 1216\n",
    "\n",
    "frame0 = cv2.imread(f'{input}_frame0.png')\n",
    "cropped_frame0 = frame0[y1:y2, x1:x2]\n",
    "\n",
    "cv2.imwrite(f'{output}_frame0_cropped.png', cropped_frame0)\n",
    "cv2.imshow(f'{output}_cropped', cropped_frame0)\n",
    "cv2.waitKey(0)"
   ]
  },
  {
   "cell_type": "code",
   "execution_count": 72,
   "metadata": {},
   "outputs": [
    {
     "data": {
      "text/plain": [
       "-1"
      ]
     },
     "execution_count": 72,
     "metadata": {},
     "output_type": "execute_result"
    }
   ],
   "source": [
    "# adjust brightness & contrast of frame\n",
    "alpha = 1   # brightness: 1.0-original, <1.0-darker, >1.0-brighter\n",
    "beta = -10    # contrast: 0-unchanged, <0-lower contrast, >0-higher contrast\n",
    "\n",
    "frame0 = cv2.imread(f'{input}_frame0.png')\n",
    "edited_frame0 = cv2.convertScaleAbs(frame0, alpha=alpha, beta=beta)\n",
    "\n",
    "cv2.imwrite(f'{output}_frame0_adjusted.png', edited_frame0)\n",
    "cv2.imshow(f'{output}_adjusted', edited_frame0)\n",
    "cv2.waitKey(0)\n"
   ]
  },
  {
   "cell_type": "code",
   "execution_count": 73,
   "metadata": {},
   "outputs": [
    {
     "name": "stderr",
     "output_type": "stream",
     "text": [
      "  0%|          | 0/4200 [00:00<?, ?it/s]"
     ]
    },
    {
     "name": "stderr",
     "output_type": "stream",
     "text": [
      "100%|██████████| 4200/4200 [02:50<00:00, 24.67it/s]"
     ]
    },
    {
     "name": "stdout",
     "output_type": "stream",
     "text": [
      "C:\\Users\\nicol\\NFCyber\\VideoAnalysis\\data\\292_p301s_trim done!\n",
      "input: 4200 frames, output: 4200 frames\n",
      "\n",
      "\n"
     ]
    },
    {
     "name": "stderr",
     "output_type": "stream",
     "text": [
      "\n"
     ]
    }
   ],
   "source": [
    "def adjust_video(input_file):\n",
    "    cap = cv2.VideoCapture(input_file)\n",
    "    total_frames = int(cap.get(cv2.CAP_PROP_FRAME_COUNT))\n",
    "    fps = cap.get(cv2.CAP_PROP_FPS)\n",
    "\n",
    "    fourcc = cv2.VideoWriter_fourcc(*'mp4v')\n",
    "    video = cv2.VideoWriter(f'{output}_adjusted.mp4', fourcc, fps, (x2-x1, y2-y1)) \n",
    "\n",
    "    for curr_frame in tqdm(range(total_frames)):    # total_frames for whole video\n",
    "        ret, frame = cap.read()\n",
    "        if ret:\n",
    "            frame = frame[y1:y2, x1:x2] # crop frame\n",
    "            frame = cv2.convertScaleAbs(frame, alpha=alpha, beta=beta)  # adjust brightness & contrast of frame\n",
    "            video.write(frame)  # add frame to video\n",
    "        else:\n",
    "            break\n",
    "\n",
    "    cv2.destroyAllWindows()\n",
    "    video.release()\n",
    "\n",
    "    print(f'{input} done!\\ninput: {total_frames} frames, output: {curr_frame+1} frames\\n\\n')\n",
    "\n",
    "\n",
    "adjust_video(input_file)"
   ]
  }
 ],
 "metadata": {
  "kernelspec": {
   "display_name": "base",
   "language": "python",
   "name": "python3"
  },
  "language_info": {
   "codemirror_mode": {
    "name": "ipython",
    "version": 3
   },
   "file_extension": ".py",
   "mimetype": "text/x-python",
   "name": "python",
   "nbconvert_exporter": "python",
   "pygments_lexer": "ipython3",
   "version": "3.11.5"
  }
 },
 "nbformat": 4,
 "nbformat_minor": 2
}
