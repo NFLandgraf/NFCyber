{
 "cells": [
  {
   "cell_type": "markdown",
   "metadata": {},
   "source": [
    "GET VIDEO PROPERTIES AND TRIM, CROP AND ADJUST BRIGHTNESS& CONTRAST"
   ]
  },
  {
   "cell_type": "code",
   "execution_count": 1,
   "metadata": {},
   "outputs": [
    {
     "name": "stdout",
     "output_type": "stream",
     "text": [
      "6 files found in path directory C:\\Users\\landgrafn\\NFCyber\\VideoAnalysis\\data\\\n",
      "['2m_292_adjusted.mp4', '2m_293_adjusted.mp4', '2m_301_adjusted.mp4', '2m_303_adjusted.mp4', '2m_304_adjusted.mp4', '2m_315_adjusted.mp4']\n",
      "\n",
      "2m_292_adjusted.mp4\n",
      "dimensions: 1140 x 1140 px\n",
      "nframes: 60001\n",
      "fps: 100\n",
      "duration: 600.01 s\n",
      "\n",
      "2m_293_adjusted.mp4\n",
      "dimensions: 1140 x 1140 px\n",
      "nframes: 60001\n",
      "fps: 100\n",
      "duration: 600.01 s\n",
      "\n",
      "2m_301_adjusted.mp4\n",
      "dimensions: 1140 x 1140 px\n",
      "nframes: 60001\n",
      "fps: 100\n",
      "duration: 600.01 s\n",
      "\n",
      "2m_303_adjusted.mp4\n",
      "dimensions: 1140 x 1140 px\n",
      "nframes: 60001\n",
      "fps: 100\n",
      "duration: 600.01 s\n",
      "\n",
      "2m_304_adjusted.mp4\n",
      "dimensions: 1140 x 1140 px\n",
      "nframes: 60001\n",
      "fps: 100\n",
      "duration: 600.01 s\n",
      "\n",
      "2m_315_adjusted.mp4\n",
      "dimensions: 1140 x 1140 px\n",
      "nframes: 60001\n",
      "fps: 100\n",
      "duration: 600.01 s\n",
      "\n"
     ]
    }
   ],
   "source": [
    "import cv2\n",
    "import ffmpeg\n",
    "from tqdm import tqdm\n",
    "import os\n",
    "\n",
    "path = 'C:\\\\Users\\\\landgrafn\\\\NFCyber\\\\VideoAnalysis\\\\data\\\\'\n",
    "common_name = '_adjusted'\n",
    "file_format = '.mp4'\n",
    "\n",
    "# get all file names in directory into list\n",
    "files = [file for file in os.listdir(path) \n",
    "             if os.path.isfile(os.path.join(path, file)) and\n",
    "             common_name in file]\n",
    "print(f'{len(files)} files found in path directory {path}\\n'\n",
    "      f'{files}\\n')\n",
    "\n",
    "# get video properties of all videos in list\n",
    "for file in files:\n",
    "      vid = cv2.VideoCapture(path + file)\n",
    "\n",
    "      width = int(vid.get(cv2.CAP_PROP_FRAME_WIDTH))\n",
    "      height = int(vid.get(cv2.CAP_PROP_FRAME_HEIGHT))\n",
    "      nframes = int(vid.get(cv2.CAP_PROP_FRAME_COUNT))\n",
    "      fps = int(vid.get(cv2.CAP_PROP_FPS))\n",
    "      duration = nframes / fps\n",
    "\n",
    "      print(f'{file}\\n'\n",
    "            f'dimensions: {width} x {height} px\\n'\n",
    "            f'nframes: {nframes}\\n'\n",
    "            f'fps: {fps}\\n'\n",
    "            f'duration: {duration} s\\n')"
   ]
  },
  {
   "cell_type": "code",
   "execution_count": 2,
   "metadata": {},
   "outputs": [
    {
     "name": "stderr",
     "output_type": "stream",
     "text": [
      "  0%|          | 0/60001 [00:00<?, ?it/s]"
     ]
    },
    {
     "name": "stderr",
     "output_type": "stream",
     "text": [
      "100%|██████████| 60001/60001 [09:37<00:00, 103.88it/s]\n"
     ]
    },
    {
     "name": "stdout",
     "output_type": "stream",
     "text": [
      "C:\\Users\\landgrafn\\NFCyber\\VideoAnalysis\\data\\2m_292_adjusted.mp4 done!\n",
      "input: 60001 frames, output: 60001 frames\n",
      "\n",
      "\n"
     ]
    },
    {
     "name": "stderr",
     "output_type": "stream",
     "text": [
      "100%|██████████| 60001/60001 [08:36<00:00, 116.17it/s]\n"
     ]
    },
    {
     "name": "stdout",
     "output_type": "stream",
     "text": [
      "C:\\Users\\landgrafn\\NFCyber\\VideoAnalysis\\data\\2m_293_adjusted.mp4 done!\n",
      "input: 60001 frames, output: 60001 frames\n",
      "\n",
      "\n"
     ]
    },
    {
     "name": "stderr",
     "output_type": "stream",
     "text": [
      "100%|██████████| 60001/60001 [08:59<00:00, 111.25it/s]\n"
     ]
    },
    {
     "name": "stdout",
     "output_type": "stream",
     "text": [
      "C:\\Users\\landgrafn\\NFCyber\\VideoAnalysis\\data\\2m_301_adjusted.mp4 done!\n",
      "input: 60001 frames, output: 60001 frames\n",
      "\n",
      "\n"
     ]
    },
    {
     "name": "stderr",
     "output_type": "stream",
     "text": [
      "100%|██████████| 60001/60001 [08:49<00:00, 113.24it/s]\n"
     ]
    },
    {
     "name": "stdout",
     "output_type": "stream",
     "text": [
      "C:\\Users\\landgrafn\\NFCyber\\VideoAnalysis\\data\\2m_303_adjusted.mp4 done!\n",
      "input: 60001 frames, output: 60001 frames\n",
      "\n",
      "\n"
     ]
    },
    {
     "name": "stderr",
     "output_type": "stream",
     "text": [
      "100%|██████████| 60001/60001 [08:51<00:00, 112.94it/s]\n"
     ]
    },
    {
     "name": "stdout",
     "output_type": "stream",
     "text": [
      "C:\\Users\\landgrafn\\NFCyber\\VideoAnalysis\\data\\2m_304_adjusted.mp4 done!\n",
      "input: 60001 frames, output: 60001 frames\n",
      "\n",
      "\n"
     ]
    },
    {
     "name": "stderr",
     "output_type": "stream",
     "text": [
      "100%|██████████| 60001/60001 [08:45<00:00, 114.16it/s]"
     ]
    },
    {
     "name": "stdout",
     "output_type": "stream",
     "text": [
      "C:\\Users\\landgrafn\\NFCyber\\VideoAnalysis\\data\\2m_315_adjusted.mp4 done!\n",
      "input: 60001 frames, output: 60001 frames\n",
      "\n",
      "\n"
     ]
    },
    {
     "name": "stderr",
     "output_type": "stream",
     "text": [
      "\n"
     ]
    }
   ],
   "source": [
    "# properties of future video\n",
    "x1, y1 = 580, 20   # top left corner of future cropped image\n",
    "x2, y2 = 1720, 1160   # bottom right corner of future cropped image\n",
    "\n",
    "alpha = 2   # brightness: 1.0-original, <1.0-darker, >1.0-brighter\n",
    "beta = -40    # contrast: 0-unchanged, <0-lower contrast, >0-higher contrast\n",
    "\n",
    "#new_width, new_height = x2-x1, y2-y1  # how many pixels should new images have\n",
    "new_width, new_height = int(width/2), int(height/2)  # how many pixels should new images have\n",
    "\n",
    "\n",
    "def adjust_video(input_file):\n",
    "    cap = cv2.VideoCapture(input_file)\n",
    "\n",
    "    fourcc = cv2.VideoWriter_fourcc(*'mp4v')\n",
    "    video = cv2.VideoWriter(output_file, fourcc, fps, (new_width, new_height)) \n",
    "\n",
    "    for curr_frame in tqdm(range(nframes)):    # nframes or 1\n",
    "        ret, frame = cap.read()\n",
    "\n",
    "        if ret:            \n",
    "            # CROP\n",
    "            #frame = frame[y1:y2, x1:x2]\n",
    "\n",
    "            # BRIGHTNESS & CONTRAST\n",
    "            #frame = cv2.convertScaleAbs(frame, alpha=alpha, beta=beta)\n",
    "\n",
    "            # RESIZE\n",
    "            frame = cv2.resize(frame, (new_width, new_height))  # must be the same dimensions as in video = cv2.VideoWriter() \n",
    "\n",
    "            video.write(frame)\n",
    "\n",
    "        else:\n",
    "            break\n",
    "\n",
    "    cap.release()\n",
    "    video.release()\n",
    "\n",
    "    print(f'{input_file} done!\\ninput: {nframes} frames, output: {curr_frame+1} frames\\n\\n')\n",
    "\n",
    "for file in files:\n",
    "    input_file = path + file\n",
    "    output_file = input_file.replace(file_format, '') + '_adjusted' + file_format\n",
    "\n",
    "    adjust_video(input_file)"
   ]
  },
  {
   "cell_type": "code",
   "execution_count": 8,
   "metadata": {},
   "outputs": [
    {
     "data": {
      "text/plain": [
       "(None, None)"
      ]
     },
     "execution_count": 8,
     "metadata": {},
     "output_type": "execute_result"
    }
   ],
   "source": [
    "input_file = path + files[0]\n",
    "output_file = input_file.replace(file_format, '') + '_trim' + file_format\n",
    "\n",
    "# trim video according to frames\n",
    "output = ffmpeg.output(ffmpeg.input(input_file).trim(start_frame=0, end_frame=1000), output_file)\n",
    "ffmpeg.run(output)"
   ]
  }
 ],
 "metadata": {
  "kernelspec": {
   "display_name": "base",
   "language": "python",
   "name": "python3"
  },
  "language_info": {
   "codemirror_mode": {
    "name": "ipython",
    "version": 3
   },
   "file_extension": ".py",
   "mimetype": "text/x-python",
   "name": "python",
   "nbconvert_exporter": "python",
   "pygments_lexer": "ipython3",
   "version": "3.11.6"
  }
 },
 "nbformat": 4,
 "nbformat_minor": 2
}
