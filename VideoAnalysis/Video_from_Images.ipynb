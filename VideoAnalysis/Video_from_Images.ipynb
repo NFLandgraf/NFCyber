{
 "cells": [
  {
   "cell_type": "code",
   "execution_count": 1,
   "metadata": {},
   "outputs": [],
   "source": [
    "import os \n",
    "import cv2 \n",
    "from PIL import Image \n",
    "import re"
   ]
  },
  {
   "cell_type": "code",
   "execution_count": 3,
   "metadata": {},
   "outputs": [
    {
     "name": "stdout",
     "output_type": "stream",
     "text": [
      "0 files found in path directory\n"
     ]
    },
    {
     "ename": "IndexError",
     "evalue": "list index out of range",
     "output_type": "error",
     "traceback": [
      "\u001b[1;31m---------------------------------------------------------------------------\u001b[0m",
      "\u001b[1;31mIndexError\u001b[0m                                Traceback (most recent call last)",
      "Cell \u001b[1;32mIn[3], line 19\u001b[0m\n\u001b[0;32m     16\u001b[0m \u001b[38;5;28mprint\u001b[39m(\u001b[38;5;124mf\u001b[39m\u001b[38;5;124m'\u001b[39m\u001b[38;5;132;01m{\u001b[39;00m\u001b[38;5;28mlen\u001b[39m(images)\u001b[38;5;132;01m}\u001b[39;00m\u001b[38;5;124m files found in path directory\u001b[39m\u001b[38;5;124m'\u001b[39m)\n\u001b[0;32m     18\u001b[0m \u001b[38;5;66;03m# setting the video properties according to first image \u001b[39;00m\n\u001b[1;32m---> 19\u001b[0m frame0 \u001b[38;5;241m=\u001b[39m cv2\u001b[38;5;241m.\u001b[39mimread(images[\u001b[38;5;241m0\u001b[39m]) \n\u001b[0;32m     20\u001b[0m height, width, layers \u001b[38;5;241m=\u001b[39m frame0\u001b[38;5;241m.\u001b[39mshape \n\u001b[0;32m     21\u001b[0m fourcc \u001b[38;5;241m=\u001b[39m cv2\u001b[38;5;241m.\u001b[39mVideoWriter_fourcc(\u001b[38;5;241m*\u001b[39m\u001b[38;5;124m'\u001b[39m\u001b[38;5;124mmp4v\u001b[39m\u001b[38;5;124m'\u001b[39m)\n",
      "\u001b[1;31mIndexError\u001b[0m: list index out of range"
     ]
    }
   ],
   "source": [
    "# Folder which contains all the images from which video is to be generated \n",
    "path = \"C:\\\\Users\\\\nicol\\\\NFCyber\\\\VideoAnalysis\\\\data\\\\\"\n",
    "common_name = '.png'\n",
    "fps = 30\n",
    "output = path + 'video.mp4'\n",
    "\n",
    "# get all file names in directory into list\n",
    "images = [file for file in os.listdir(path) \n",
    "             if os.path.isfile(os.path.join(path, file)) and \n",
    "\t\t\t common_name in file]\n",
    "\n",
    "# sort images according to numbers in name\n",
    "def num_sort(file_list):\n",
    "\treturn list(map(int, re.findall(r'\\d+', file_list)))[0]\n",
    "images.sort(key=num_sort) \n",
    "print(f'{len(images)} files found in path directory')\n",
    "\n",
    "# setting the video properties according to first image \n",
    "frame0 = cv2.imread(images[0]) \n",
    "height, width, layers = frame0.shape \n",
    "fourcc = cv2.VideoWriter_fourcc(*'mp4v')\n",
    "video = cv2.VideoWriter(output, fourcc, fps, (width, height)) \n",
    "\n",
    "# Appending the images to the video one by one \n",
    "for img in images: \n",
    "\tvideo.write(img) \n",
    "\n",
    "cv2.destroyAllWindows()\n",
    "video.release()\n"
   ]
  }
 ],
 "metadata": {
  "kernelspec": {
   "display_name": "base",
   "language": "python",
   "name": "python3"
  },
  "language_info": {
   "codemirror_mode": {
    "name": "ipython",
    "version": 3
   },
   "file_extension": ".py",
   "mimetype": "text/x-python",
   "name": "python",
   "nbconvert_exporter": "python",
   "pygments_lexer": "ipython3",
   "version": "3.11.5"
  }
 },
 "nbformat": 4,
 "nbformat_minor": 2
}
