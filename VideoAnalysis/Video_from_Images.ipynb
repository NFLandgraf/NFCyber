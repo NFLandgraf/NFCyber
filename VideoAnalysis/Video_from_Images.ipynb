{
 "cells": [
  {
   "cell_type": "code",
   "execution_count": 17,
   "metadata": {},
   "outputs": [
    {
     "name": "stdout",
     "output_type": "stream",
     "text": [
      "current path: C:\\Users\\nicol\\NFCyber\\VideoAnalysis\\pics\n",
      "image folder path: C:\\Users\\nicol\\NFCyber\\VideoAnalysis\\pics\n",
      "number images: 300\n",
      "['0.png', '1.png', '10.png', '100.png', '101.png', '102.png', '103.png', '104.png', '105.png', '106.png', '107.png', '108.png', '109.png', '11.png', '110.png', '111.png', '112.png', '113.png', '114.png', '115.png', '116.png', '117.png', '118.png', '119.png', '12.png', '120.png', '121.png', '122.png', '123.png', '124.png', '125.png', '126.png', '127.png', '128.png', '129.png', '13.png', '130.png', '131.png', '132.png', '133.png', '134.png', '135.png', '136.png', '137.png', '138.png', '139.png', '14.png', '140.png', '141.png', '142.png', '143.png', '144.png', '145.png', '146.png', '147.png', '148.png', '149.png', '15.png', '150.png', '151.png', '152.png', '153.png', '154.png', '155.png', '156.png', '157.png', '158.png', '159.png', '16.png', '160.png', '161.png', '162.png', '163.png', '164.png', '165.png', '166.png', '167.png', '168.png', '169.png', '17.png', '170.png', '171.png', '172.png', '173.png', '174.png', '175.png', '176.png', '177.png', '178.png', '179.png', '18.png', '180.png', '181.png', '182.png', '183.png', '184.png', '185.png', '186.png', '187.png', '188.png', '189.png', '19.png', '190.png', '191.png', '192.png', '193.png', '194.png', '195.png', '196.png', '197.png', '198.png', '199.png', '2.png', '20.png', '200.png', '201.png', '202.png', '203.png', '204.png', '205.png', '206.png', '207.png', '208.png', '209.png', '21.png', '210.png', '211.png', '212.png', '213.png', '214.png', '215.png', '216.png', '217.png', '218.png', '219.png', '22.png', '220.png', '221.png', '222.png', '223.png', '224.png', '225.png', '226.png', '227.png', '228.png', '229.png', '23.png', '230.png', '231.png', '232.png', '233.png', '234.png', '235.png', '236.png', '237.png', '238.png', '239.png', '24.png', '240.png', '241.png', '242.png', '243.png', '244.png', '245.png', '246.png', '247.png', '248.png', '249.png', '25.png', '250.png', '251.png', '252.png', '253.png', '254.png', '255.png', '256.png', '257.png', '258.png', '259.png', '26.png', '260.png', '261.png', '262.png', '263.png', '264.png', '265.png', '266.png', '267.png', '268.png', '269.png', '27.png', '270.png', '271.png', '272.png', '273.png', '274.png', '275.png', '276.png', '277.png', '278.png', '279.png', '28.png', '280.png', '281.png', '282.png', '283.png', '284.png', '285.png', '286.png', '287.png', '288.png', '289.png', '29.png', '290.png', '291.png', '292.png', '293.png', '294.png', '295.png', '296.png', '297.png', '298.png', '299.png', '3.png', '30.png', '31.png', '32.png', '33.png', '34.png', '35.png', '36.png', '37.png', '38.png', '39.png', '4.png', '40.png', '41.png', '42.png', '43.png', '44.png', '45.png', '46.png', '47.png', '48.png', '49.png', '5.png', '50.png', '51.png', '52.png', '53.png', '54.png', '55.png', '56.png', '57.png', '58.png', '59.png', '6.png', '60.png', '61.png', '62.png', '63.png', '64.png', '65.png', '66.png', '67.png', '68.png', '69.png', '7.png', '70.png', '71.png', '72.png', '73.png', '74.png', '75.png', '76.png', '77.png', '78.png', '79.png', '8.png', '80.png', '81.png', '82.png', '83.png', '84.png', '85.png', '86.png', '87.png', '88.png', '89.png', '9.png', '90.png', '91.png', '92.png', '93.png', '94.png', '95.png', '96.png', '97.png', '98.png', '99.png']\n"
     ]
    },
    {
     "ename": "TypeError",
     "evalue": "expected string or bytes-like object, got 'list'",
     "output_type": "error",
     "traceback": [
      "\u001b[1;31m---------------------------------------------------------------------------\u001b[0m",
      "\u001b[1;31mTypeError\u001b[0m                                 Traceback (most recent call last)",
      "Cell \u001b[1;32mIn[17], line 56\u001b[0m\n\u001b[0;32m     52\u001b[0m \tvideo\u001b[38;5;241m.\u001b[39mrelease() \u001b[38;5;66;03m# releasing the video generated \u001b[39;00m\n\u001b[0;32m     55\u001b[0m \u001b[38;5;66;03m# Calling the generate_video function \u001b[39;00m\n\u001b[1;32m---> 56\u001b[0m generate_video()\n",
      "Cell \u001b[1;32mIn[17], line 32\u001b[0m, in \u001b[0;36mgenerate_video\u001b[1;34m()\u001b[0m\n\u001b[0;32m     26\u001b[0m \u001b[38;5;28mprint\u001b[39m(images)\n\u001b[0;32m     29\u001b[0m \u001b[38;5;66;03m# def num_sort(test_string):\u001b[39;00m\n\u001b[0;32m     30\u001b[0m \u001b[38;5;66;03m# \treturn list(map(int, re.findall(r'\\d+', test_string)))[0]\u001b[39;00m\n\u001b[1;32m---> 32\u001b[0m images\u001b[38;5;241m.\u001b[39msort(key\u001b[38;5;241m=\u001b[39m\u001b[38;5;28mlist\u001b[39m(\u001b[38;5;28mmap\u001b[39m(\u001b[38;5;28mint\u001b[39m, re\u001b[38;5;241m.\u001b[39mfindall(\u001b[38;5;124mr\u001b[39m\u001b[38;5;124m'\u001b[39m\u001b[38;5;124m\\\u001b[39m\u001b[38;5;124md+\u001b[39m\u001b[38;5;124m'\u001b[39m, images)))[\u001b[38;5;241m0\u001b[39m]) \n\u001b[0;32m     33\u001b[0m \u001b[38;5;28mprint\u001b[39m(images)\n\u001b[0;32m     36\u001b[0m \u001b[38;5;28mprint\u001b[39m(\u001b[38;5;124mf\u001b[39m\u001b[38;5;124m'\u001b[39m\u001b[38;5;124mimages included: \u001b[39m\u001b[38;5;132;01m{\u001b[39;00m\u001b[38;5;28mlen\u001b[39m(images)\u001b[38;5;132;01m}\u001b[39;00m\u001b[38;5;124m'\u001b[39m) \n",
      "File \u001b[1;32mc:\\Users\\nicol\\anaconda3\\Lib\\re\\__init__.py:216\u001b[0m, in \u001b[0;36mfindall\u001b[1;34m(pattern, string, flags)\u001b[0m\n\u001b[0;32m    208\u001b[0m \u001b[38;5;28;01mdef\u001b[39;00m \u001b[38;5;21mfindall\u001b[39m(pattern, string, flags\u001b[38;5;241m=\u001b[39m\u001b[38;5;241m0\u001b[39m):\n\u001b[0;32m    209\u001b[0m \u001b[38;5;250m    \u001b[39m\u001b[38;5;124;03m\"\"\"Return a list of all non-overlapping matches in the string.\u001b[39;00m\n\u001b[0;32m    210\u001b[0m \n\u001b[0;32m    211\u001b[0m \u001b[38;5;124;03m    If one or more capturing groups are present in the pattern, return\u001b[39;00m\n\u001b[1;32m   (...)\u001b[0m\n\u001b[0;32m    214\u001b[0m \n\u001b[0;32m    215\u001b[0m \u001b[38;5;124;03m    Empty matches are included in the result.\"\"\"\u001b[39;00m\n\u001b[1;32m--> 216\u001b[0m     \u001b[38;5;28;01mreturn\u001b[39;00m _compile(pattern, flags)\u001b[38;5;241m.\u001b[39mfindall(string)\n",
      "\u001b[1;31mTypeError\u001b[0m: expected string or bytes-like object, got 'list'"
     ]
    }
   ],
   "source": [
    "# importing libraries \n",
    "import os \n",
    "import cv2 \n",
    "from PIL import Image \n",
    "import re\n",
    "\n",
    "# Checking the current directory path \n",
    "print(f'current path: {os.getcwd()}') \n",
    "\n",
    "# Folder which contains all the images from which video is to be generated \n",
    "os.chdir(\"C:\\\\Users\\\\nicol\\\\NFCyber\\\\VideoAnalysis\\\\pics\") \n",
    "path = \"C:\\\\Users\\\\nicol\\\\NFCyber\\\\VideoAnalysis\\\\pics\"\n",
    "print(f'image folder path: {path}')\n",
    "\n",
    "num_of_images = len(os.listdir('.')) \n",
    "print(f'number images: {num_of_images}')\n",
    "\n",
    "\n",
    "# video generating function \n",
    "def generate_video(): \n",
    "\timage_folder = '.' # make sure to use your folder \n",
    "\tvideo_name = 'mygeneratedvideo.avi'\n",
    "\t#os.chdir(\"C:\\\\Python\\\\Geekfolder2\") \n",
    "\t\n",
    "\timages = [img for img in os.listdir(image_folder)]\n",
    "\t\n",
    "\t# sort images\n",
    "\tdef num_sort(test_string):\n",
    "\t\treturn list(map(int, re.findall(r'\\d+', test_string)))[0]\n",
    "\timages.sort(key=num_sort) \n",
    "\n",
    "\tprint(f'images included: {len(images)}') \n",
    "\t\n",
    "\n",
    "\tframe = cv2.imread(os.path.join(image_folder, images[0])) \n",
    "\n",
    "\t# setting the frame width, height width the width, height of first image \n",
    "\theight, width, layers = frame.shape \n",
    "\n",
    "\tvideo = cv2.VideoWriter(video_name, 0, 30, (width, height)) \n",
    "\n",
    "\t# Appending the images to the video one by one \n",
    "\tfor image in images: \n",
    "\t\tvideo.write(cv2.imread(os.path.join(image_folder, image))) \n",
    "\t\n",
    "\t# Deallocating memories taken for window creation \n",
    "\tcv2.destroyAllWindows() \n",
    "\tvideo.release() # releasing the video generated \n",
    "\n",
    "\n",
    "# Calling the generate_video function \n",
    "generate_video() \n"
   ]
  }
 ],
 "metadata": {
  "kernelspec": {
   "display_name": "base",
   "language": "python",
   "name": "python3"
  },
  "language_info": {
   "codemirror_mode": {
    "name": "ipython",
    "version": 3
   },
   "file_extension": ".py",
   "mimetype": "text/x-python",
   "name": "python",
   "nbconvert_exporter": "python",
   "pygments_lexer": "ipython3",
   "version": "3.11.5"
  }
 },
 "nbformat": 4,
 "nbformat_minor": 2
}
